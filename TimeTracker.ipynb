{
 "cells": [
  {
   "cell_type": "markdown",
   "metadata": {},
   "source": [
    "# Python Execution Time Tracking\n",
    "\n",
    "A simple python class for tracking how much time is spent in functions.\n",
    "It allows you to track:\n",
    "- the *total time* spent in a function i.e., the time delta between entering and exiting a function;\n",
    "- the *partial time* spent in a function i.e., the total time minus the total time spent in **time-tracked functions** called inside the function.\n"
   ]
  },
  {
   "cell_type": "markdown",
   "metadata": {},
   "source": [
    "## Dependencies\n",
    "\n",
    "Only standard python libraies:\n",
    "- `time`: used to get the current unix time\n",
    "- `functools`: to properly wrap functions when decorating them"
   ]
  },
  {
   "cell_type": "code",
   "execution_count": 1,
   "metadata": {
    "collapsed": false
   },
   "outputs": [],
   "source": [
    "import time\n",
    "from functools import wraps"
   ]
  },
  {
   "cell_type": "markdown",
   "metadata": {},
   "source": [
    "## Logger module\n",
    "\n",
    "\n",
    "It is a required argument of the TimeTracker module. It must provides a `log` function that log a given json message. The code below implement a basic Logger module.\n"
   ]
  },
  {
   "cell_type": "code",
   "execution_count": 2,
   "metadata": {
    "collapsed": false
   },
   "outputs": [],
   "source": [
    "class Logger:\n",
    "    def log(self, message):\n",
    "        print('[TimeTracking] {function_name} {args} {kwargs} - total: {total_time:3.6f} s - partial: {partial_time:3.6f} s'.format(**message))"
   ]
  },
  {
   "cell_type": "markdown",
   "metadata": {},
   "source": [
    "## The TimeTracker module\n",
    "\n",
    "Arguments when initialization:\n",
    "- [Required] `logger`: an instance that have a `log` function attribue;\n",
    "- [Optional] `do_time_tracking`: a boolean that enables the time tracker if True. Default value is True;\n",
    "- [Optional] `isolated`: the time tracker uses global variables if `isolated` is False. It allows time_tracker initialized in different files to share the same variables hence tracking consistent times. See below for an example."
   ]
  },
  {
   "cell_type": "code",
   "execution_count": 3,
   "metadata": {
    "collapsed": true
   },
   "outputs": [],
   "source": [
    "_time_tracker_global_entering_times = []\n",
    "_time_tracker_global_total_times = [0]\n",
    "\n",
    "class TimeTracker:\n",
    "    def __init__(self, logger, do_time_tracking=True, isolated=True):\n",
    "        self.logger = logger\n",
    "        self.do_time_tracking = do_time_tracking\n",
    "\n",
    "        if isolated:\n",
    "            self.entering_times = []\n",
    "            self.total_times = [0]\n",
    "        else:\n",
    "            self.entering_times = _time_tracker_global_entering_times\n",
    "            self.total_times = _time_tracker_global_total_times\n",
    "            \n",
    "    def _enter(self):\n",
    "        self.entering_times.append(time.time())\n",
    "        self.total_times.append(0)\n",
    " \n",
    "    def _exit(self, function_name, args, kwargs):\n",
    "        enter_time = self.entering_times.pop()\n",
    "        inner_total_time = self.total_times.pop()\n",
    "\n",
    "        exit_time = time.time()\n",
    "        total_time = exit_time - enter_time\n",
    "        partial_time = total_time - inner_total_time\n",
    "        \n",
    "        self.total_times[-1] += total_time\n",
    "        \n",
    "        self.logger.log({\n",
    "            'function_name': function_name,\n",
    "            'args': args,\n",
    "            'kwargs': kwargs,\n",
    "            'total_time': total_time,\n",
    "            'partial_time': partial_time,\n",
    "        })\n",
    "        \n",
    "    def __str__(self):\n",
    "        return 'entering_times: {entering_times}, total_times: {total_times}'.format(\n",
    "            entering_times=self.entering_times,\n",
    "            total_times=self.total_times,\n",
    "        )\n",
    "    \n",
    "    def time_track(self):\n",
    "        def _time_track(function):\n",
    "            @wraps(function)\n",
    "            def wrapped(*args, **kwargs):\n",
    "                self._enter()\n",
    "                try:\n",
    "                    result = function(*args, **kwargs)\n",
    "                finally:\n",
    "                    self._exit(function.__name__, args, kwargs)\n",
    "\n",
    "                return result\n",
    "            return wrapped\n",
    "\n",
    "        return _time_track if self.do_time_tracking else lambda function: function"
   ]
  },
  {
   "cell_type": "markdown",
   "metadata": {},
   "source": [
    "### Initialization"
   ]
  },
  {
   "cell_type": "code",
   "execution_count": 4,
   "metadata": {
    "collapsed": false
   },
   "outputs": [
    {
     "name": "stdout",
     "output_type": "stream",
     "text": [
      "entering_times: [], total_times: [0]\n"
     ]
    }
   ],
   "source": [
    "logger = Logger()\n",
    "time_tracker = TimeTracker(logger, True)\n",
    "\n",
    "print(time_tracker)"
   ]
  },
  {
   "cell_type": "markdown",
   "metadata": {},
   "source": [
    "## Examples"
   ]
  },
  {
   "cell_type": "markdown",
   "metadata": {},
   "source": [
    "### 1. Basic example\n",
    "\n",
    "A function `boo` call a function `dodo` twice.\n",
    "Both function are decorated with the `time_tracker.time_track` function. Note that the two `dodo` total execution times are taken into account in `boo` partial execution time."
   ]
  },
  {
   "cell_type": "code",
   "execution_count": 5,
   "metadata": {
    "collapsed": false
   },
   "outputs": [
    {
     "name": "stdout",
     "output_type": "stream",
     "text": [
      "[TimeTracking] dodo (1, 0.3) {} - total: 0.300370 s - partial: 0.300370 s\n",
      "[TimeTracking] dodo (2, 0.4) {} - total: 0.400543 s - partial: 0.400543 s\n",
      "[TimeTracking] boo (1, 2) {} - total: 0.901676 s - partial: 0.200763 s\n"
     ]
    },
    {
     "data": {
      "text/plain": [
       "3"
      ]
     },
     "execution_count": 5,
     "metadata": {},
     "output_type": "execute_result"
    }
   ],
   "source": [
    "@time_tracker.time_track()\n",
    "def boo(x, y):\n",
    "    time.sleep(0.2)\n",
    "    return dodo(x, 0.3) + dodo(y, 0.4)\n",
    "\n",
    "@time_tracker.time_track()\n",
    "def dodo(x, i):\n",
    "    time.sleep(i)\n",
    "    return x\n",
    "\n",
    "boo(1, 2)"
   ]
  },
  {
   "cell_type": "markdown",
   "metadata": {},
   "source": [
    "### 2. Recursive functions"
   ]
  },
  {
   "cell_type": "code",
   "execution_count": 6,
   "metadata": {
    "collapsed": false
   },
   "outputs": [
    {
     "name": "stdout",
     "output_type": "stream",
     "text": [
      "[TimeTracking] f (-1, 0) {} - total: 0.100327 s - partial: 0.100327 s\n",
      "[TimeTracking] g (0, 1) {} - total: 0.801705 s - partial: 0.701378 s\n",
      "[TimeTracking] f (0, 1) {} - total: 0.902204 s - partial: 0.100498 s\n",
      "[TimeTracking] g (1, 2) {} - total: 1.603253 s - partial: 0.701049 s\n",
      "[TimeTracking] f (1, 2) {} - total: 1.703762 s - partial: 0.100509 s\n"
     ]
    },
    {
     "data": {
      "text/plain": [
       "0.25"
      ]
     },
     "execution_count": 6,
     "metadata": {},
     "output_type": "execute_result"
    }
   ],
   "source": [
    "@time_tracker.time_track()\n",
    "def f(x, i):\n",
    "    time.sleep(0.1)\n",
    "    if i == 0:\n",
    "        return x\n",
    "    else:\n",
    "        return 3 * g(x, i) + 1\n",
    "\n",
    "@time_tracker.time_track()\n",
    "def g(x, i):\n",
    "    time.sleep(0.3)\n",
    "    res = f(x-1, i-1) / 2\n",
    "    time.sleep(0.4)\n",
    "    return res\n",
    "\n",
    "f(1, 2)"
   ]
  },
  {
   "cell_type": "markdown",
   "metadata": {},
   "source": [
    "### 3. Another recursive function: the fibonacci function"
   ]
  },
  {
   "cell_type": "code",
   "execution_count": 7,
   "metadata": {
    "collapsed": false
   },
   "outputs": [
    {
     "name": "stdout",
     "output_type": "stream",
     "text": [
      "[TimeTracking] fibo (1,) {} - total: 0.000008 s - partial: 0.000008 s\n",
      "[TimeTracking] fibo (0,) {} - total: 0.000020 s - partial: 0.000020 s\n",
      "[TimeTracking] fibo (2,) {} - total: 0.002459 s - partial: 0.002431 s\n",
      "[TimeTracking] fibo (1,) {} - total: 0.000011 s - partial: 0.000011 s\n",
      "[TimeTracking] fibo (3,) {} - total: 0.004395 s - partial: 0.001925 s\n",
      "[TimeTracking] fibo (1,) {} - total: 0.000005 s - partial: 0.000005 s\n",
      "[TimeTracking] fibo (0,) {} - total: 0.000005 s - partial: 0.000005 s\n",
      "[TimeTracking] fibo (2,) {} - total: 0.000167 s - partial: 0.000157 s\n",
      "[TimeTracking] fibo (4,) {} - total: 0.004750 s - partial: 0.000187 s\n",
      "[TimeTracking] fibo (1,) {} - total: 0.000004 s - partial: 0.000004 s\n",
      "[TimeTracking] fibo (0,) {} - total: 0.000005 s - partial: 0.000005 s\n",
      "[TimeTracking] fibo (2,) {} - total: 0.000224 s - partial: 0.000215 s\n",
      "[TimeTracking] fibo (1,) {} - total: 0.000005 s - partial: 0.000005 s\n",
      "[TimeTracking] fibo (3,) {} - total: 0.000411 s - partial: 0.000182 s\n",
      "[TimeTracking] fibo (5,) {} - total: 0.005350 s - partial: 0.000189 s\n"
     ]
    },
    {
     "data": {
      "text/plain": [
       "8"
      ]
     },
     "execution_count": 7,
     "metadata": {},
     "output_type": "execute_result"
    }
   ],
   "source": [
    "@time_tracker.time_track()\n",
    "def fibo(n):\n",
    "    if n == 0 or n == 1:\n",
    "        return 1\n",
    "    else:\n",
    "        return fibo(n-1) + fibo(n-2)\n",
    "    \n",
    "fibo(5)"
   ]
  },
  {
   "cell_type": "markdown",
   "metadata": {},
   "source": [
    "### 4. Time track functions raising exceptions"
   ]
  },
  {
   "cell_type": "code",
   "execution_count": 8,
   "metadata": {
    "collapsed": false
   },
   "outputs": [
    {
     "name": "stdout",
     "output_type": "stream",
     "text": [
      "[TimeTracking] error_fun () {} - total: 0.200417 s - partial: 0.200417 s\n",
      "[TimeTracking] error_fun_caller () {} - total: 0.301006 s - partial: 0.100589 s\n"
     ]
    },
    {
     "ename": "Exception",
     "evalue": "Booo",
     "output_type": "error",
     "traceback": [
      "\u001b[0;31m---------------------------------------------------------------------------\u001b[0m",
      "\u001b[0;31mException\u001b[0m                                 Traceback (most recent call last)",
      "\u001b[0;32m<ipython-input-8-c52a8d7ee13d>\u001b[0m in \u001b[0;36m<module>\u001b[0;34m()\u001b[0m\n\u001b[1;32m      9\u001b[0m     \u001b[0merror_fun\u001b[0m\u001b[0;34m(\u001b[0m\u001b[0;34m)\u001b[0m\u001b[0;34m\u001b[0m\u001b[0m\n\u001b[1;32m     10\u001b[0m \u001b[0;34m\u001b[0m\u001b[0m\n\u001b[0;32m---> 11\u001b[0;31m \u001b[0merror_fun_caller\u001b[0m\u001b[0;34m(\u001b[0m\u001b[0;34m)\u001b[0m\u001b[0;34m\u001b[0m\u001b[0m\n\u001b[0m",
      "\u001b[0;32m<ipython-input-3-45d276dbc305>\u001b[0m in \u001b[0;36mwrapped\u001b[0;34m(*args, **kwargs)\u001b[0m\n\u001b[1;32m     48\u001b[0m                 \u001b[0mself\u001b[0m\u001b[0;34m.\u001b[0m\u001b[0m_enter\u001b[0m\u001b[0;34m(\u001b[0m\u001b[0;34m)\u001b[0m\u001b[0;34m\u001b[0m\u001b[0m\n\u001b[1;32m     49\u001b[0m                 \u001b[0;32mtry\u001b[0m\u001b[0;34m:\u001b[0m\u001b[0;34m\u001b[0m\u001b[0m\n\u001b[0;32m---> 50\u001b[0;31m                     \u001b[0mresult\u001b[0m \u001b[0;34m=\u001b[0m \u001b[0mfunction\u001b[0m\u001b[0;34m(\u001b[0m\u001b[0;34m*\u001b[0m\u001b[0margs\u001b[0m\u001b[0;34m,\u001b[0m \u001b[0;34m**\u001b[0m\u001b[0mkwargs\u001b[0m\u001b[0;34m)\u001b[0m\u001b[0;34m\u001b[0m\u001b[0m\n\u001b[0m\u001b[1;32m     51\u001b[0m                 \u001b[0;32mfinally\u001b[0m\u001b[0;34m:\u001b[0m\u001b[0;34m\u001b[0m\u001b[0m\n\u001b[1;32m     52\u001b[0m                     \u001b[0mself\u001b[0m\u001b[0;34m.\u001b[0m\u001b[0m_exit\u001b[0m\u001b[0;34m(\u001b[0m\u001b[0mfunction\u001b[0m\u001b[0;34m.\u001b[0m\u001b[0m__name__\u001b[0m\u001b[0;34m,\u001b[0m \u001b[0margs\u001b[0m\u001b[0;34m,\u001b[0m \u001b[0mkwargs\u001b[0m\u001b[0;34m)\u001b[0m\u001b[0;34m\u001b[0m\u001b[0m\n",
      "\u001b[0;32m<ipython-input-8-c52a8d7ee13d>\u001b[0m in \u001b[0;36merror_fun_caller\u001b[0;34m()\u001b[0m\n\u001b[1;32m      7\u001b[0m \u001b[0;32mdef\u001b[0m \u001b[0merror_fun_caller\u001b[0m\u001b[0;34m(\u001b[0m\u001b[0;34m)\u001b[0m\u001b[0;34m:\u001b[0m\u001b[0;34m\u001b[0m\u001b[0m\n\u001b[1;32m      8\u001b[0m     \u001b[0mtime\u001b[0m\u001b[0;34m.\u001b[0m\u001b[0msleep\u001b[0m\u001b[0;34m(\u001b[0m\u001b[0;36m0.1\u001b[0m\u001b[0;34m)\u001b[0m\u001b[0;34m\u001b[0m\u001b[0m\n\u001b[0;32m----> 9\u001b[0;31m     \u001b[0merror_fun\u001b[0m\u001b[0;34m(\u001b[0m\u001b[0;34m)\u001b[0m\u001b[0;34m\u001b[0m\u001b[0m\n\u001b[0m\u001b[1;32m     10\u001b[0m \u001b[0;34m\u001b[0m\u001b[0m\n\u001b[1;32m     11\u001b[0m \u001b[0merror_fun_caller\u001b[0m\u001b[0;34m(\u001b[0m\u001b[0;34m)\u001b[0m\u001b[0;34m\u001b[0m\u001b[0m\n",
      "\u001b[0;32m<ipython-input-3-45d276dbc305>\u001b[0m in \u001b[0;36mwrapped\u001b[0;34m(*args, **kwargs)\u001b[0m\n\u001b[1;32m     48\u001b[0m                 \u001b[0mself\u001b[0m\u001b[0;34m.\u001b[0m\u001b[0m_enter\u001b[0m\u001b[0;34m(\u001b[0m\u001b[0;34m)\u001b[0m\u001b[0;34m\u001b[0m\u001b[0m\n\u001b[1;32m     49\u001b[0m                 \u001b[0;32mtry\u001b[0m\u001b[0;34m:\u001b[0m\u001b[0;34m\u001b[0m\u001b[0m\n\u001b[0;32m---> 50\u001b[0;31m                     \u001b[0mresult\u001b[0m \u001b[0;34m=\u001b[0m \u001b[0mfunction\u001b[0m\u001b[0;34m(\u001b[0m\u001b[0;34m*\u001b[0m\u001b[0margs\u001b[0m\u001b[0;34m,\u001b[0m \u001b[0;34m**\u001b[0m\u001b[0mkwargs\u001b[0m\u001b[0;34m)\u001b[0m\u001b[0;34m\u001b[0m\u001b[0m\n\u001b[0m\u001b[1;32m     51\u001b[0m                 \u001b[0;32mfinally\u001b[0m\u001b[0;34m:\u001b[0m\u001b[0;34m\u001b[0m\u001b[0m\n\u001b[1;32m     52\u001b[0m                     \u001b[0mself\u001b[0m\u001b[0;34m.\u001b[0m\u001b[0m_exit\u001b[0m\u001b[0;34m(\u001b[0m\u001b[0mfunction\u001b[0m\u001b[0;34m.\u001b[0m\u001b[0m__name__\u001b[0m\u001b[0;34m,\u001b[0m \u001b[0margs\u001b[0m\u001b[0;34m,\u001b[0m \u001b[0mkwargs\u001b[0m\u001b[0;34m)\u001b[0m\u001b[0;34m\u001b[0m\u001b[0m\n",
      "\u001b[0;32m<ipython-input-8-c52a8d7ee13d>\u001b[0m in \u001b[0;36merror_fun\u001b[0;34m()\u001b[0m\n\u001b[1;32m      2\u001b[0m \u001b[0;32mdef\u001b[0m \u001b[0merror_fun\u001b[0m\u001b[0;34m(\u001b[0m\u001b[0;34m)\u001b[0m\u001b[0;34m:\u001b[0m\u001b[0;34m\u001b[0m\u001b[0m\n\u001b[1;32m      3\u001b[0m     \u001b[0mtime\u001b[0m\u001b[0;34m.\u001b[0m\u001b[0msleep\u001b[0m\u001b[0;34m(\u001b[0m\u001b[0;36m0.2\u001b[0m\u001b[0;34m)\u001b[0m\u001b[0;34m\u001b[0m\u001b[0m\n\u001b[0;32m----> 4\u001b[0;31m     \u001b[0;32mraise\u001b[0m \u001b[0mException\u001b[0m\u001b[0;34m(\u001b[0m\u001b[0;34m'Booo'\u001b[0m\u001b[0;34m)\u001b[0m\u001b[0;34m\u001b[0m\u001b[0m\n\u001b[0m\u001b[1;32m      5\u001b[0m \u001b[0;34m\u001b[0m\u001b[0m\n\u001b[1;32m      6\u001b[0m \u001b[0;34m@\u001b[0m\u001b[0mtime_tracker\u001b[0m\u001b[0;34m.\u001b[0m\u001b[0mtime_track\u001b[0m\u001b[0;34m(\u001b[0m\u001b[0;34m)\u001b[0m\u001b[0;34m\u001b[0m\u001b[0m\n",
      "\u001b[0;31mException\u001b[0m: Booo"
     ]
    }
   ],
   "source": [
    "@time_tracker.time_track()\n",
    "def error_fun():\n",
    "    time.sleep(0.2)\n",
    "    raise Exception('Booo')\n",
    "\n",
    "@time_tracker.time_track()\n",
    "def error_fun_caller():\n",
    "    time.sleep(0.1)\n",
    "    error_fun()\n",
    "    \n",
    "error_fun_caller()"
   ]
  },
  {
   "cell_type": "markdown",
   "metadata": {},
   "source": [
    "### Time trackers using global variables\n",
    "\n",
    "But default, different time trackers will not be able to take time-tracked sub-calls into account. For instance:"
   ]
  },
  {
   "cell_type": "code",
   "execution_count": 9,
   "metadata": {
    "collapsed": false
   },
   "outputs": [
    {
     "name": "stdout",
     "output_type": "stream",
     "text": [
      "[TimeTracking] dodo (1, 0.3) {} - total: 0.300512 s - partial: 0.300512 s\n",
      "[TimeTracking] dodo (2, 0.4) {} - total: 0.400593 s - partial: 0.400593 s\n",
      "[TimeTracking] boo (1, 2) {} - total: 0.901966 s - partial: 0.901966 s\n"
     ]
    },
    {
     "data": {
      "text/plain": [
       "3"
      ]
     },
     "execution_count": 9,
     "metadata": {},
     "output_type": "execute_result"
    }
   ],
   "source": [
    "## time_tracker_1 defined in some file\n",
    "time_tracker_1 = TimeTracker(logger)\n",
    "\n",
    "@time_tracker_1.time_track()\n",
    "def boo(x, y):\n",
    "    time.sleep(0.2)\n",
    "    return dodo(x, 0.3) + dodo(y, 0.4)\n",
    "\n",
    "## time_tracker_2 defined in some other file\n",
    "time_tracker_2 = TimeTracker(logger)\n",
    "\n",
    "@time_tracker_2.time_track()\n",
    "def dodo(x, i):\n",
    "    time.sleep(i)\n",
    "    return x\n",
    "\n",
    "boo(1, 2)"
   ]
  },
  {
   "cell_type": "markdown",
   "metadata": {},
   "source": [
    "To aleviate this, you should set the `isolated` optional argument to True. For instance:"
   ]
  },
  {
   "cell_type": "code",
   "execution_count": 10,
   "metadata": {
    "collapsed": false
   },
   "outputs": [
    {
     "name": "stdout",
     "output_type": "stream",
     "text": [
      "[TimeTracking] dodo (1, 0.3) {} - total: 0.300505 s - partial: 0.300505 s\n",
      "[TimeTracking] dodo (2, 0.4) {} - total: 0.400618 s - partial: 0.400618 s\n",
      "[TimeTracking] boo (1, 2) {} - total: 0.901944 s - partial: 0.200821 s\n"
     ]
    },
    {
     "data": {
      "text/plain": [
       "3"
      ]
     },
     "execution_count": 10,
     "metadata": {},
     "output_type": "execute_result"
    }
   ],
   "source": [
    "## time_tracker_1 defined in some file\n",
    "time_tracker_1 = TimeTracker(logger, isolated=False)\n",
    "\n",
    "@time_tracker_1.time_track()\n",
    "def boo(x, y):\n",
    "    time.sleep(0.2)\n",
    "    return dodo(x, 0.3) + dodo(y, 0.4)\n",
    "\n",
    "## time_tracker_2 defined in some other file\n",
    "time_tracker_2 = TimeTracker(logger, isolated=False)\n",
    "\n",
    "@time_tracker_2.time_track()\n",
    "def dodo(x, i):\n",
    "    time.sleep(i)\n",
    "    return x\n",
    "\n",
    "boo(1, 2)"
   ]
  }
 ],
 "metadata": {
  "kernelspec": {
   "display_name": "Python 3",
   "language": "python",
   "name": "python3"
  },
  "language_info": {
   "codemirror_mode": {
    "name": "ipython",
    "version": 3
   },
   "file_extension": ".py",
   "mimetype": "text/x-python",
   "name": "python",
   "nbconvert_exporter": "python",
   "pygments_lexer": "ipython3",
   "version": "3.6.0"
  }
 },
 "nbformat": 4,
 "nbformat_minor": 2
}
